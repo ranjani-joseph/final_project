{
 "cells": [
  {
   "cell_type": "raw",
   "metadata": {},
   "source": [
    "# Metadata\n",
    "\n",
    "* Title: **Final Project Report**\n",
    "* Class: DS 5100\n",
    "* Date:\n",
    "* Student Name: Sivaranjani Kandasami\n",
    "* Student Net ID: nyc2xu\n",
    "* This URL: https://github.com/ranjani-joseph/DS5100-2022-08-nyc2xu/blob/main/Project/project/project.ipynb\n",
    "* GitHub Repo URL: "
   ]
  },
  {
   "cell_type": "markdown",
   "metadata": {},
   "source": [
    "# The Monte Carlo Module"
   ]
  },
  {
   "cell_type": "code",
   "execution_count": null,
   "metadata": {},
   "outputs": [],
   "source": [
    "# A code block with your classes.\n",
    "import pandas as pd\n",
    "import numpy as np\n",
    "\n",
    "\n",
    "class Die:\n",
    "    '''A die has N sides, or “faces”, and W weights, and can be rolled to select a face.\n",
    "\n",
    "       W defaults to 1.0 for each face but can be changed after the object is created.\n",
    "       Note that the weights are just numbers, not a normalized probability distribution.\n",
    "       The die has one behavior, which is to be rolled one or more times.\n",
    "       Note that what we are calling a “die” here can represent a variety of random variables associated with stochastic processes, such as using a deck of cards or flipping a coin or speaking a language. \n",
    "       We can create these models by increasing the number of sides and defining the values of their faces. \n",
    "       Our probability models for such variables are, however, very simple – since our weights apply to only to single events, we are assuming that the events are independent.'''\n",
    "    def __init__(self,faces):\n",
    "        '''Initializer takes an array of faces as an argument.\n",
    "        The array's data type (dtype) may be strings or numbers.\n",
    "        The faces must be unique; no duplicates.\n",
    "        Internally iInitializes the weights to 1.0 for each face.\n",
    "        Saves faces and weights in a private dataframe that is to be shared by the other methods.'''\n",
    "    \n",
    "        self.faces = list(set(faces)) # array of strings or numbers\n",
    "        self.weights =  [1.0 for self.face in range(len(self.faces))] # array of integers\n",
    "        self.die = pd.DataFrame({'faces':self.faces, 'weights':self.weights}) #dataframe with faces and weights\n",
    "    \n",
    "        \n",
    "    def change_weight(self,face_value,new_weight):\n",
    "        '''This method is to change the weight of a single side.\n",
    "        Takes two arguments: the face value to be changed and the new weight.\n",
    "        Checks to see if the face passed is valid; is it in the array of weights?\n",
    "        Checks to see if the weight is valid; is it a float? Can it be converted to one?'''\n",
    "        self.checks = []\n",
    "        if (type(face_value)==str or type(face_value)==int) and face_value in self.faces:\n",
    "            self.checks.append(True)\n",
    "#             print(\"Checks passed,valid face value and weight\")\n",
    "        else:\n",
    "            self.checks.append(False)\n",
    "            print(\"Face value should be array of strings or integer.  \")\n",
    "            \n",
    "        try:\n",
    "            self.weight=float(new_weight)\n",
    "            self.checks.append(True)\n",
    "        except:\n",
    "            print(\"Weight cannot be converted to float\")\n",
    "            self.checks.append(False)\n",
    "        \n",
    "        if self.checks:\n",
    "            self.i = self.faces.index(face_value)\n",
    "            self.weights[self.i] = new_weight\n",
    "        else:\n",
    "            print(\"Checks failed. Pass valid face value and weight\")\n",
    "            \n",
    "        self.die = pd.DataFrame({'faces':self.faces, 'weights':self.weights})            \n",
    "        return self.die\n",
    "        \n",
    "    def roll(self,num_roll=1):\n",
    "        '''This method is to roll the die one or more times.\n",
    "        Takes a parameter of how many times the die is to be rolled; defaults to 1.\n",
    "        This is essentially a random sample from the vector of faces according to the weights.\n",
    "        Returns a list of outcomes.\n",
    "        Does not store internally these results.'''    \n",
    "        return list(self.die.sample(n=num_roll,weights='weights',replace=True)['faces'])\n",
    "         \n",
    "    def show(self):\n",
    "        '''This method is to show the user the die’s current set of faces and weights (since the latter can be changed).\n",
    "        Returns the dataframe created in the initializer but possibly updated by the weight changing method.'''\n",
    "        return self.die\n",
    "    \n",
    "    \n",
    "    \n",
    "class Game:\n",
    "    '''Game class consists of rolling of one or more dice of the same kind one or more times.\n",
    "       Each game is initialized with a list of one or more of similarly defined dice (Die objects).\n",
    "       By “same kind” and “similarly defined” we mean that each die in a given game has the same number of sides and set of faces, but each die object may have its own weights.\n",
    "       The class has a behavior to play a game, i.e. to roll all of the dice a given number of times.\n",
    "       The class keeps the results of its most recent play.'''\n",
    "    \n",
    "    \n",
    "    def __init__(self,dice):\n",
    "        '''Takes a single parameter, a list of already instantiated similar Die objects.'''\n",
    "        self.dice = dice\n",
    "    \n",
    "    def play(self,num_roll):\n",
    "        '''Takes a parameter to specify how many times the dice should be rolled. Saves the result of the play to a private dataframe of shape N rolls by M dice.\n",
    "        That is, each role is an observation and each column is a feature. Each cell should show the resulting face for the die on the roll. Note that this table is in wide form.\n",
    "        The private dataframe should have the roll number is a named index.'''\n",
    "        self.num_roll = num_roll\n",
    "        self.play_result = pd.DataFrame()\n",
    "        n=1\n",
    "        for die in self.dice:\n",
    "            self.result = die.roll(num_roll)\n",
    "            self.play_result['Die'+str(n)] = self.result\n",
    "            n+= 1\n",
    "        \n",
    "        self.play_result['Roll']=list(np.arange(1,num_roll+1))\n",
    "        self.result_df = self.play_result.set_index('Roll')\n",
    "        return self.result_df\n",
    "            \n",
    "    def show(self,df_form='wide'):\n",
    "        '''This method just passes the private dataframe to the user.\n",
    "        Takes a parameter to return the dataframe in narrow or wide form.\n",
    "        This parameter defaults to wide form, which is what the previously described method produces.\n",
    "        This parameter should raise an exception if the user passes an invalid option.\n",
    "        The narrow form of the dataframe will have a two-column index with the roll number and the die number, and a single column for the face rolled.'''\n",
    "        \n",
    "        self.df_form = df_form\n",
    "        if self.df_form == 'wide':\n",
    "#             print(\"wide\")\n",
    "            self.df_to_return = self.result_df\n",
    "        elif df_form == 'narrow':   \n",
    "            self.df_to_return = self.result_df.stack().to_frame('Face')\n",
    "        else:\n",
    "            raise Exception(\"Dataframe form should be wide or narrow\")\n",
    "        return self.df_to_return\n",
    "    \n",
    "    \n",
    "class Analyzer:\n",
    "    def __init__(self,game):\n",
    "        '''An analyzer takes the results of a single game and computes various descriptive statistical properties about it.\n",
    "        A face counts per roll, i.e. the number of times a given face appeared in each roll. \n",
    "        For example, if a roll of five dice has all sixes, then the counts for this roll would be 6 for the face value '6' and 0 for the other faces. \n",
    "        A jackpot count, i.e. how many times a roll resulted in all faces being the same, e.g. six ones for a six-sided die. \n",
    "        A combo count, i.e. how many combination types of faces were rolled and their counts. \n",
    "        A permutation count, i.e. how may sequence types were rolled and their counts.'''\n",
    "        self.game = game\n",
    "    \n",
    "    def face_counts_per_roll(self):\n",
    "        '''A face counts per roll method to compute how many times a given face is rolled in each event.\n",
    "        Stores the results as a dataframe in a public attribute.\n",
    "        The dataframe has an index of the roll number and face values as columns (i.e. it is in wide format).'''\n",
    "        face_counts_per_roll = pd.DataFrame()\n",
    "        for i in range(len(self.game)):\n",
    "            each_roll = pd.DataFrame(self.game.iloc[i].value_counts()).transpose()\n",
    "            face_counts_per_roll = face_counts_per_roll.append(each_roll)\n",
    "        face_counts_per_roll.index.name = 'Game'\n",
    "        return face_counts_per_roll\n",
    "    \n",
    "    def combo(self):\n",
    "        '''A combo method to compute the distinct combinations of faces rolled, along with their counts.\n",
    "        Combinations should be sorted and saved as a multi-columned index.\n",
    "        Stores the results as a dataframe in a public attribute.'''\n",
    "        self.combo_results = pd.DataFrame()\n",
    "        for i in range(len(self.game)):\n",
    "            self.combo_results = self.combo_results.append(pd.DataFrame(self.game.iloc[i].value_counts()).transpose())\n",
    "            self.combo_results.index.name = \"Roll\"\n",
    "        return self.combo_results\n",
    "                                     \n",
    "    \n",
    "    def jackpot(self):\n",
    "        '''A jackpot method to compute how many times the game resulted in all faces being identical.\n",
    "        Returns an integer for the number times to the user.\n",
    "        Stores the results as a dataframe of jackpot results in a public attribute.\n",
    "        The dataframe should have the roll number as a named index.'''\n",
    "        jackpot_results = pd.DataFrame()\n",
    "        analyzer = Analyzer(self.game)\n",
    "        self.combo_results = analyzer.combo()\n",
    "        for i in range(len(self.combo_results)):\n",
    "            if self.combo_results.iloc[i].count()==1:\n",
    "                jackpot_results = jackpot_results.append(self.combo_results.iloc[i])\n",
    "        all_faces_identical = len(jackpot_results)\n",
    "        return all_faces_identical\n",
    "          "
   ]
  },
  {
   "cell_type": "markdown",
   "metadata": {},
   "source": [
    "# Test Module"
   ]
  },
  {
   "cell_type": "code",
   "execution_count": 2,
   "metadata": {},
   "outputs": [],
   "source": [
    "# A code block with your test code.\n",
    "import unittest\n",
    "import numpy as np\n",
    "\n",
    "import pkg_mc\n",
    "from imp import reload\n",
    "reload(pkg_mc)\n",
    "from pkg_mc.montecarlo import *\n",
    "\n",
    "class MonteCarloTestSuite(unittest.TestCase):\n",
    "    def test_test(self):\n",
    "        self.assertTrue(True)\n",
    "        \n",
    "    # 'test_1_change_weight()': Change weight of a face in list of faces.\n",
    "    # 'test_2_roll_die()': Roll die 2 times and store results in dataframe\n",
    "    # 'test_3_die_show()': Show faces of die\n",
    "    # 'test_4_game_play()': Play game twice and see results\n",
    "    # 'test_5_face_counts()': Count faces of game\n",
    "    # 'test_6_combo()': Verify if the combos are summed\n",
    "    # 'test_7_jackpot()': Verify jackpot results are correct\n",
    "\n",
    "    \n",
    "    def test_1_die_change_weight(self):\n",
    "        # Change weight of a face\n",
    "        faces_list = [2,3,4,5]\n",
    "        mc_change_weight = Die(faces_list)\n",
    "        df = mc_change_weight.change_weight(2,6)\n",
    "        assert (df['weights'][0] == 6)\n",
    "        \n",
    "    def test_2_die_roll(self):\n",
    "        # Roll die 2 times and store results in dataframe\n",
    "        faces_list = [2,3,4,5]\n",
    "        die = Die(faces_list)\n",
    "        roll_list = die.roll(2)\n",
    "        assert (len(roll_list) == 2)\n",
    "        \n",
    "    def test_3_die_show(self):\n",
    "        # Roll die 2 times and store results in dataframe\n",
    "        faces_list = [2,3,4,5]\n",
    "        die = Die(faces_list)\n",
    "        df = die.show()\n",
    "        assert (len(df) == 4)\n",
    "                  \n",
    "    def test_4_game_play(self):\n",
    "        # Play game and store the results in a wide dataframe\n",
    "        faces_list = [1,2,3,4,5]\n",
    "        die1 = Die(faces_list)\n",
    "        die2 = Die(faces_list)\n",
    "        dice_list = [die1,die2]\n",
    "        game = Game(dice_list)\n",
    "        game_play = game.play(4)\n",
    "        game.show(\"wide\")\n",
    "        assert len(game_play)==4\n",
    "               \n",
    "    def test_5_face_counts(self):\n",
    "        # Count faces of game\n",
    "        df = pd.DataFrame({'Game':[1,2,3,4], 'die1':[2,6,4,7], 'die2':[4,8,4,2], 'die3':[1,5,4,6]})\n",
    "        df = df.set_index('Game')\n",
    "        analyze = Analyzer(df)\n",
    "        face_counts = analyze.face_counts_per_roll()\n",
    "        assert (face_counts.iloc[3][6] ==1)\n",
    "      \n",
    "    def test_6_combo(self):\n",
    "        # Verify if the combos are summed\n",
    "        df = pd.DataFrame({'Game':[1,2,3,4], 'die1':[2,6,4,7], 'die2':[4,8,4,2], 'die3':[1,5,4,6]})\n",
    "        df = df.set_index('Game')\n",
    "        analyze = Analyzer(df)\n",
    "        game_combo = analyze.combo()\n",
    "        assert (game_combo.iloc[2][4] == 3)\n",
    "        \n",
    "    def test_7_jackpot(self):\n",
    "        #Verify jackpot results are correct\n",
    "        df = pd.DataFrame({'Game':[1,2,3,4], 'die1':[2,6,4,7], 'die2':[4,8,4,2], 'die3':[1,5,4,6]})\n",
    "        df = df.set_index('Game')\n",
    "        analyze = Analyzer(df)\n",
    "        game_combo = analyze.jackpot()\n",
    "        assert (game_combo == 1)"
   ]
  },
  {
   "cell_type": "markdown",
   "metadata": {},
   "source": [
    "# Test Results"
   ]
  },
  {
   "cell_type": "raw",
   "metadata": {},
   "source": [
    "bash-4.2$python montecarlo_tests.py\n",
    "test_1_die_change_weight (__main__.MonteCarloTestSuite) ... ok\n",
    "test_2_die_roll (__main__.MonteCarloTestSuite) ... ok\n",
    "test_3_die_show (__main__.MonteCarloTestSuite) ... ok\n",
    "test_4_game_play (__main__.MonteCarloTestSuite) ... ok\n",
    "test_5_face_counts (__main__.MonteCarloTestSuite) ... ok\n",
    "test_6_combo (__main__.MonteCarloTestSuite) ... ok\n",
    "test_7_jackpot (__main__.MonteCarloTestSuite) ... ok\n",
    "test_test (__main__.MonteCarloTestSuite) ... ok\n",
    "----------------------------------------------------------------------\n",
    "Ran 8 tests in 0.080s\n",
    "OK\n",
    "bash-4.2$"
   ]
  },
  {
   "cell_type": "markdown",
   "metadata": {},
   "source": [
    "# Scenarios\n",
    "\n",
    "Code blocks with your scenarios and their outputs. \n",
    "\n",
    "These should have appropriate import statements even though the code is now in the same notebook as the classes it calls. "
   ]
  },
  {
   "cell_type": "markdown",
   "metadata": {},
   "source": [
    "## Scenario 1"
   ]
  },
  {
   "cell_type": "markdown",
   "metadata": {},
   "source": [
    "Scenario 1: 2-headed coin\n",
    "\n",
    "Create one fair coin (with faces H and T) and one unfair coin. For the unfair coin, give one of the faces a weight of 5 and the others 1.\n",
    "Play a game of 1000 flips of three coins with all fair dice.\n",
    "Play a game of 1000 flips with two unfair dice and one fair die.\n",
    "For each game, use an Analyzer object to determine the relative frequency of jackpots – getting either all Hs or all Ts.\n",
    "Compute relative frequency as the number of jackpots over the total number of rolls.\n",
    "Show your results, comparing the two relative frequencies, in a simple bar chart."
   ]
  },
  {
   "cell_type": "code",
   "execution_count": 8,
   "metadata": {},
   "outputs": [
    {
     "name": "stdout",
     "output_type": "stream",
     "text": [
      "Number of jackpots for 3 fair dice : 256\n",
      "Number of jackpots for 2 unfair and 1 fair dice : 370\n"
     ]
    },
    {
     "data": {
      "image/png": "[encoded data removed]",
      "text/plain": [
       "<Figure size 432x288 with 1 Axes>"
      ]
     },
     "metadata": {
      "needs_background": "light"
     },
     "output_type": "display_data"
    }
   ],
   "source": [
    "# Code blocks with output\n",
    "# Create one fair coin (with faces H and T) and one unfair coin. For the unfair coin, give one of the faces a weight of 5 and the others 1\n",
    "faces = ['H','T']\n",
    "num_roll = 1000\n",
    "\n",
    "#Fair Coin\n",
    "fair_coin = Die(faces)\n",
    "fair_coin_face_list = fair_coin.faces\n",
    "fair_coin.show()\n",
    "\n",
    "#Unfair Coin\n",
    "unfair_coin = Die(faces)\n",
    "unfair_coin_face_list = unfair_coin.faces\n",
    "unfair_coin.change_weight('T',5)\n",
    "\n",
    "\n",
    "# Play a game of 1000 flips of three coins with all fair dice\n",
    "fair_coin_list = []\n",
    "for i in range(3):\n",
    "    fair_coin_list.append(fair_coin)\n",
    "\n",
    "fair_game = Game(fair_coin_list)\n",
    "fair_game.play(num_roll)\n",
    "fair_game.show()\n",
    "\n",
    "analyze_fair_game = Analyzer(fair_game.show())\n",
    "fair_game_jackpot = analyze_fair_game.jackpot()\n",
    "print(\"Number of jackpots for 3 fair dice : \"+str(fair_game_jackpot))\n",
    "\n",
    "#Relative frequency\n",
    "fair_game_rf = fair_game_jackpot/num_roll\n",
    "\n",
    "#---------------------#\n",
    "\n",
    "# Play a game of 1000 flips with two unfair dice and one fair die - referred as unfair_game\n",
    "unfair_coin_list = [fair_coin]\n",
    "for i in range(2):\n",
    "    unfair_coin_list.append(unfair_coin)\n",
    "\n",
    "unfair_game = Game(unfair_coin_list)\n",
    "unfair_game.play(num_roll)\n",
    "unfair_game.show()\n",
    "\n",
    "analyze_unfair_game = Analyzer(unfair_game.show())\n",
    "unfair_game_jackpot = analyze_unfair_game.jackpot()\n",
    "print(\"Number of jackpots for 2 unfair and 1 fair dice : \"+str(unfair_game_jackpot))\n",
    "\n",
    "#Relative frequency\n",
    "unfair_game_rf = unfair_game_jackpot/num_roll\n",
    "\n",
    "#Show your results, comparing the two relative frequencies, in a simple bar chart.\n",
    "rf_df = pd.DataFrame()\n",
    "df = pd.DataFrame({'Game':['Fair Game','Unfair Game'],'Relative Frequency':[fair_game_rf,unfair_game_rf]})\n",
    "df = df.set_index('Game')\n",
    "df.sort_index().plot.bar();"
   ]
  },
  {
   "cell_type": "markdown",
   "metadata": {},
   "source": [
    "## Scenario 2"
   ]
  },
  {
   "cell_type": "markdown",
   "metadata": {},
   "source": [
    "Create a fair die and two unfair dice, all of six sides with the faces 1 through 6. One unfair die (Type 1) will weight 6 five times more than the others (i.e. it has weight of 5 and the others a weight of 1 each). The other unfair die (Type 2) will weight 1 five times more than the others.\n",
    "Play a game of 10000 rolls with 5 fair dice.\n",
    "Play a game of 10000 rolls with 2 unfair dice of type 1, 1 unfair die of type 2, and the rest fair dice.\n",
    "For each game, use an Analyzer object to determine the relative frequency of jackpots and show your results, comparing the two relative frequencies, in a simple bar chart.\n",
    "Also compute 10 most frequent combinations of faces for each game. Plot each of these as bar charts."
   ]
  },
  {
   "cell_type": "code",
   "execution_count": 9,
   "metadata": {},
   "outputs": [
    {
     "name": "stdout",
     "output_type": "stream",
     "text": [
      "Number of jackpots for 5 fair dice : 11\n",
      "Number of jackpots for 2 unfair dice of type 1, 1 unfair die of type 2 and 1 fair dice : 69\n"
     ]
    },
    {
     "data": {
      "image/png": "[encoded data removed]",
      "text/plain": [
       "<Figure size 432x288 with 1 Axes>"
      ]
     },
     "metadata": {
      "needs_background": "light"
     },
     "output_type": "display_data"
    }
   ],
   "source": [
    "# Code blocks with output\n",
    "faces = [1,2,3,4,5,6]\n",
    "num_roll = 10000\n",
    "\n",
    "#Fair Coin\n",
    "fair_die = Die(faces)\n",
    "fair_die_face_list = fair_die.faces\n",
    "fair_die.show()\n",
    "\n",
    "#Unfair Coin Type1\n",
    "unfair_coin_type1 = Die(faces)\n",
    "unfair_coin_face_list = unfair_coin_type1.faces\n",
    "unfair_coin_type1.change_weight(6,5)\n",
    "\n",
    "#Unfair Coin Type2\n",
    "unfair_coin_type2 = Die(faces)\n",
    "unfair_coin_face_list = unfair_coin_type2.faces\n",
    "unfair_coin_type2.change_weight(1,5)\n",
    "\n",
    "# Play a game of 10000 rolls with 5 fair dice.\n",
    "fair_die_list = []\n",
    "for i in range(5):\n",
    "    fair_die_list.append(fair_die)\n",
    "\n",
    "fair_game = Game(fair_die_list)\n",
    "fair_game.play(num_roll)\n",
    "fair_game.show()\n",
    "\n",
    "analyze_fair_game = Analyzer(fair_game.show())\n",
    "fair_game_jackpot = analyze_fair_game.jackpot()\n",
    "print(\"Number of jackpots for 5 fair dice : \"+str(fair_game_jackpot))\n",
    "\n",
    "#Relative frequency\n",
    "fair_game_rf = fair_game_jackpot/num_roll\n",
    "\n",
    "#---------------------#\n",
    "\n",
    "#Play a game of 10000 rolls with 2 unfair dice of type 1, 1 unfair die of type 2, and the rest fair dice.\n",
    "unfair_coin_list = [unfair_coin_type1,unfair_coin_type1,unfair_coin_type2,fair_die]\n",
    "\n",
    "unfair_game = Game(unfair_coin_list)\n",
    "unfair_game.play(num_roll)\n",
    "unfair_game.show()\n",
    "\n",
    "analyze_unfair_game = Analyzer(unfair_game.show())\n",
    "unfair_game_jackpot = analyze_unfair_game.jackpot()\n",
    "print(\"Number of jackpots for 2 unfair dice of type 1, 1 unfair die of type 2 and 1 fair dice : \"+str(unfair_game_jackpot))\n",
    "\n",
    "#Relative frequency\n",
    "unfair_game_rf = unfair_game_jackpot/num_roll\n",
    "\n",
    "#---------------------#\n",
    "\n",
    "#For each game, use an Analyzer object to determine the relative frequency of jackpots and show your results, comparing the two relative frequencies, in a simple bar chart.\n",
    "rf_df = pd.DataFrame()\n",
    "df = pd.DataFrame({'Game':['Fair Game','Unfair Game'],'Relative Frequency':[fair_game_rf,unfair_game_rf]})\n",
    "df = df.set_index('Game')\n",
    "df.sort_index().plot.bar();\n"
   ]
  },
  {
   "cell_type": "code",
   "execution_count": 12,
   "metadata": {},
   "outputs": [
    {
     "data": {
      "image/png": "[encoded data removed]",
      "text/plain": [
       "<Figure size 432x288 with 1 Axes>"
      ]
     },
     "metadata": {
      "needs_background": "light"
     },
     "output_type": "display_data"
    }
   ],
   "source": [
    "#Also compute 10 most frequent combinations of faces for each game. Plot each of these as bar charts.\n",
    "def get10_freq_combo(df):\n",
    "    face_combos = []\n",
    "    for i in range(len(df)):\n",
    "        face_combo = df.iloc[i]\n",
    "        face_combos.append(tuple(face_combo.drop_duplicates().sort_values()))\n",
    "    pd.Series(face_combos).value_counts()[:10].plot.bar()\n",
    "\n",
    "fair_game_frequest_combos = get10_freq_combo(fair_game.show())"
   ]
  },
  {
   "cell_type": "code",
   "execution_count": 11,
   "metadata": {},
   "outputs": [
    {
     "data": {
      "image/png": "[encoded data removed]",
      "text/plain": [
       "<Figure size 432x288 with 1 Axes>"
      ]
     },
     "metadata": {
      "needs_background": "light"
     },
     "output_type": "display_data"
    }
   ],
   "source": [
    "unfair_game_frequest_combos = get10_freq_combo(unfair_game.show())"
   ]
  },
  {
   "cell_type": "markdown",
   "metadata": {},
   "source": [
    "## Scenario 3"
   ]
  },
  {
   "cell_type": "markdown",
   "metadata": {},
   "source": [
    "Create a \"die\" of letters from a to z with weights based on their frequency of usage. See Appendix for these weights.\n",
    "Play a game involving 5 of these dice with 1000 rolls.\n",
    "Generate 10 random samples of 10 from your data and count the number of times you see a word that looks like an English word in each sample. \n",
    "Keep a running count; this will result in an estimate of the percent of English words in the data. "
   ]
  },
  {
   "cell_type": "code",
   "execution_count": 13,
   "metadata": {},
   "outputs": [
    {
     "name": "stdout",
     "output_type": "stream",
     "text": [
      "English words in data : 2\n",
      "['PATES', 'CHINA']\n",
      "Percentage of English words : 2%\n"
     ]
    }
   ],
   "source": [
    "# Code blocks with output\n",
    "import enchant\n",
    "\n",
    "english_dict = enchant.Dict(\"en_US\")\n",
    "\n",
    "#Create a \"die\" of letters from a to z with weights based on their frequency of usage. weights from Appendix are stored in weights.csv\n",
    "weights_df = pd.read_csv(\"weights.csv\")\n",
    "faces = list(weights_df['Alphabet'])\n",
    "\n",
    "\n",
    "die = Die(faces)\n",
    "die_face_list = die.faces\n",
    "\n",
    "for i in range(len(weights_df)):\n",
    "    die.change_weight(weights_df.iloc[i].Alphabet,weights_df.iloc[i].Weight)\n",
    "die.show()\n",
    "\n",
    "#Play a game involving 5 of these dice with 1000 rolls.\n",
    "num_roll = 1000\n",
    "die_list = []\n",
    "for i in range(5):\n",
    "    die_list.append(die)\n",
    "\n",
    "game = Game(die_list)\n",
    "game.play(num_roll)\n",
    "\n",
    "# Generate 10 random samples of 10 from your data and count the number of times you see a word that looks like an English word in each sample. \n",
    "\n",
    "check_word = lambda word :english_dict.check(word)\n",
    "word_count =0\n",
    "words_list = []\n",
    "\n",
    "for i in range(1,11):\n",
    "    samples  = game.show().sample(10)\n",
    "    words = samples.apply(''.join ,axis=1)\n",
    "    for word in words:\n",
    "        if check_word(word):\n",
    "            words_list.append(word)\n",
    "            word_count+=1\n",
    "    \n",
    "print(\"English words in data : \"+str(word_count))\n",
    "if word_count > 0:\n",
    "    print(words_list)\n",
    "    \n",
    "print(\"Percentage of English words : \"+str(word_count)+\"%\")"
   ]
  },
  {
   "cell_type": "markdown",
   "metadata": {},
   "source": [
    "# Directory Listing\n",
    "\n",
    "A code block that executes the following bash command: \n",
    "\n",
    "```bash\n",
    "!ls -lRF -o\n",
    "```"
   ]
  },
  {
   "cell_type": "code",
   "execution_count": 14,
   "metadata": {},
   "outputs": [
    {
     "name": "stdout",
     "output_type": "stream",
     "text": [
      ".:\n",
      "total 144\n",
      "-rw-r--r-- 1 nyc2xu 26548 Nov 27 13:37 final-project-submission.ipynb\n",
      "-rw-r--r-- 1 nyc2xu 66495 Nov 29 14:12 montecarlo_demo.ipynb\n",
      "-rw-r--r-- 1 nyc2xu   957 Nov 27 13:37 montecarlo_test_results.txt\n",
      "-rw-r--r-- 1 nyc2xu  2750 Nov 29 14:06 montecarlo_tests.py\n",
      "drwxr-sr-x 4 nyc2xu  3072 Nov 29 14:05 pkg_mc/\n",
      "drwxr-sr-x 3 nyc2xu  3072 Nov 29 14:01 pkg_mc.egg-info/\n",
      "-rw-r--r-- 1 nyc2xu  6043 Nov 29 13:23 README.md\n",
      "-rw-r--r-- 1 nyc2xu   318 Nov 27 13:37 setup.py\n",
      "-rw-r--r-- 1 nyc2xu   278 Nov 29 11:15 weights.csv\n",
      "\n",
      "./pkg_mc:\n",
      "total 44\n",
      "-rw-r--r-- 1 nyc2xu     0 Nov 27 13:37 __init__.py\n",
      "-rw-r--r-- 1 nyc2xu   182 Nov 29 14:05 __init__.pyc\n",
      "-rw-r--r-- 1 nyc2xu  8575 Nov 29 13:59 montecarlo.py\n",
      "-rw-r--r-- 1 nyc2xu 10173 Nov 29 14:05 montecarlo.pyc\n",
      "drwxr-sr-x 2 nyc2xu  1024 Nov 29 14:09 __pycache__/\n",
      "\n",
      "./pkg_mc/__pycache__:\n",
      "total 20\n",
      "-rw-r--r-- 1 nyc2xu  186 Nov 29 13:56 __init__.cpython-38.pyc\n",
      "-rw-r--r-- 1 nyc2xu 8569 Nov 29 14:09 montecarlo.cpython-38.pyc\n",
      "\n",
      "./pkg_mc.egg-info:\n",
      "total 20\n",
      "-rw-r--r-- 1 nyc2xu   1 Nov 29 13:54 dependency_links.txt\n",
      "-rw-r--r-- 1 nyc2xu 243 Nov 29 14:01 PKG-INFO\n",
      "-rw-r--r-- 1 nyc2xu  15 Nov 29 13:54 requires.txt\n",
      "-rw-r--r-- 1 nyc2xu 207 Nov 29 13:54 SOURCES.txt\n",
      "-rw-r--r-- 1 nyc2xu   7 Nov 29 13:54 top_level.txt\n"
     ]
    }
   ],
   "source": [
    "!ls -lRF -o"
   ]
  },
  {
   "cell_type": "markdown",
   "metadata": {
    "tags": []
   },
   "source": [
    "# Installation Output Listing\n",
    "    \n",
    "A code block that executes the code to install your your package and outputs a successful installation."
   ]
  },
  {
   "cell_type": "code",
   "execution_count": 15,
   "metadata": {},
   "outputs": [
    {
     "name": "stdout",
     "output_type": "stream",
     "text": [
      "Defaulting to user installation because normal site-packages is not writeable\n",
      "Obtaining file:///sfs/qumulo/qhome/nyc2xu/Documents/MSDS/DS5100/DS5100-2022-08-nyc2xu/Project\n",
      "Requirement already satisfied: pandas>=0.15.1 in /sfs/applications/202206/software/standard/compiler/gcc/9.2.0/jupyter_conda/2020.11-py3.8/lib/python3.8/site-packages (from pkg-mc==0.1) (1.1.3)\n",
      "Requirement already satisfied: python-dateutil>=2.7.3 in /sfs/applications/202206/software/standard/compiler/gcc/9.2.0/jupyter_conda/2020.11-py3.8/lib/python3.8/site-packages (from pandas>=0.15.1->pkg-mc==0.1) (2.8.1)\n",
      "Requirement already satisfied: pytz>=2017.2 in /sfs/applications/202206/software/standard/compiler/gcc/9.2.0/jupyter_conda/2020.11-py3.8/lib/python3.8/site-packages (from pandas>=0.15.1->pkg-mc==0.1) (2020.1)\n",
      "Requirement already satisfied: numpy>=1.15.4 in /sfs/applications/202206/software/standard/compiler/gcc/9.2.0/jupyter_conda/2020.11-py3.8/lib/python3.8/site-packages (from pandas>=0.15.1->pkg-mc==0.1) (1.19.2)\n",
      "Requirement already satisfied: six>=1.5 in /sfs/applications/202206/software/standard/compiler/gcc/9.2.0/jupyter_conda/2020.11-py3.8/lib/python3.8/site-packages (from python-dateutil>=2.7.3->pandas>=0.15.1->pkg-mc==0.1) (1.15.0)\n",
      "Installing collected packages: pkg-mc\n",
      "  Attempting uninstall: pkg-mc\n",
      "    Found existing installation: pkg-mc 0.1\n",
      "    Uninstalling pkg-mc-0.1:\n",
      "      Successfully uninstalled pkg-mc-0.1\n",
      "  Running setup.py develop for pkg-mc\n",
      "Successfully installed pkg-mc\n"
     ]
    }
   ],
   "source": [
    "# Installation commands\n",
    "!pip install -e ."
   ]
  }
 ],
 "metadata": {
  "kernelspec": {
   "display_name": "Python 3",
   "language": "python",
   "name": "python3"
  },
  "language_info": {
   "codemirror_mode": {
    "name": "ipython",
    "version": 3
   },
   "file_extension": ".py",
   "mimetype": "text/x-python",
   "name": "python",
   "nbconvert_exporter": "python",
   "pygments_lexer": "ipython3",
   "version": "3.8.8"
  },
  "widgets": {
   "application/vnd.jupyter.widget-state+json": {
    "state": {},
    "version_major": 2,
    "version_minor": 0
   }
  }
 },
 "nbformat": 4,
 "nbformat_minor": 5
}
